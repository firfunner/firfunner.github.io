{
 "cells": [
  {
   "cell_type": "markdown",
   "metadata": {},
   "source": [
    "### 函数，输入一个城市一个国家名，返回一个组合字符串"
   ]
  },
  {
   "cell_type": "code",
   "execution_count": 2,
   "metadata": {},
   "outputs": [],
   "source": [
    "# cite_functions.py\n",
    "def get_formatted_city(city, country):\n",
    "    formatted_city = city + ', ' + country\n",
    "    return formatted"
   ]
  },
  {
   "cell_type": "code",
   "execution_count": 5,
   "metadata": {},
   "outputs": [],
   "source": [
    "# test_cities.py\n",
    "import unittest\n",
    "from cite_functions import get_formatted_city\n",
    "\n",
    "class CitiesTestCase(unittest.TestCase):\n",
    "    \n",
    "    def test_city_country(slef):\n",
    "        formatted_city = get_formatted_city('Shanghai', 'China')\n",
    "        self.assertEqual(formatted_city, 'Shanghai, China')"
   ]
  }
 ],
 "metadata": {
  "kernelspec": {
   "display_name": "Python 3",
   "language": "python",
   "name": "python3"
  },
  "language_info": {
   "codemirror_mode": {
    "name": "ipython",
    "version": 3
   },
   "file_extension": ".py",
   "mimetype": "text/x-python",
   "name": "python",
   "nbconvert_exporter": "python",
   "pygments_lexer": "ipython3",
   "version": "3.7.1"
  }
 },
 "nbformat": 4,
 "nbformat_minor": 2
}
